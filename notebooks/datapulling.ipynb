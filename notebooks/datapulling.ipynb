{
 "cells": [
  {
   "cell_type": "code",
   "execution_count": 2,
   "id": "89b32c0d",
   "metadata": {},
   "outputs": [
    {
     "name": "stdout",
     "output_type": "stream",
     "text": [
      "                     temp  dwpt  rhum  prcp  snow   wdir  wspd  wpgt    pres  \\\n",
      "time                                                                           \n",
      "2023-01-01 00:00:00   1.1  -2.1  79.0   0.0  <NA>  130.0  13.0  <NA>  1006.1   \n",
      "2023-01-01 01:00:00   1.7  -2.8  72.0   0.0  <NA>  140.0  11.2  <NA>  1006.7   \n",
      "\n",
      "                     tsun  coco  \n",
      "time                             \n",
      "2023-01-01 00:00:00  <NA>   7.0  \n",
      "2023-01-01 01:00:00  <NA>   7.0  \n",
      "                     temp  dwpt  rhum  prcp  snow  wdir  wspd  wpgt    pres  \\\n",
      "time                                                                          \n",
      "2024-12-31 22:00:00   1.7  -9.8  42.0   0.0  <NA>  70.0  16.6  <NA>  1020.6   \n",
      "2024-12-31 23:00:00   0.0 -10.0  47.0   0.0  <NA>  70.0  16.6  <NA>  1022.1   \n",
      "\n",
      "                     tsun  coco  \n",
      "time                             \n",
      "2024-12-31 22:00:00  <NA>   3.0  \n",
      "2024-12-31 23:00:00  <NA>   3.0  \n"
     ]
    }
   ],
   "source": [
    "from datetime import datetime\n",
    "from meteostat import Hourly\n",
    "import os\n",
    "\n",
    "DIA = '72565'\n",
    "\n",
    "start = datetime(2023, 1, 1 )\n",
    "end = datetime(2024, 12, 31, 23, 59);\n",
    "\n",
    "data = Hourly(DIA,start, end)\n",
    "data = data.fetch();\n",
    "\n",
    "print(data.head(2))\n",
    "print(data.tail(2))\n",
    "\n",
    "filename= \"dia_2023-2024_hourly.csv\"\n",
    "data_folder_path = \"../data/raw/meteostat\"\n",
    "os.makedirs(data_folder_path, exist_ok=True)\n",
    "filepath = os.path.join(data_folder_path, filename)\n",
    "data.to_csv(filepath, index=True)"
   ]
  }
 ],
 "metadata": {
  "kernelspec": {
   "display_name": "flight_delay_predictor",
   "language": "python",
   "name": "python3"
  },
  "language_info": {
   "codemirror_mode": {
    "name": "ipython",
    "version": 3
   },
   "file_extension": ".py",
   "mimetype": "text/x-python",
   "name": "python",
   "nbconvert_exporter": "python",
   "pygments_lexer": "ipython3",
   "version": "3.13.7"
  }
 },
 "nbformat": 4,
 "nbformat_minor": 5
}
